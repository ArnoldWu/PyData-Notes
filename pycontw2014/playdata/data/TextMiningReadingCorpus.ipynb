{
 "metadata": {
  "celltoolbar": "Slideshow",
  "name": "",
  "signature": "sha256:2cb9396643fc778765802d09e491e25e9fa6de4ad87522dbcce465179c402a2c"
 },
 "nbformat": 3,
 "nbformat_minor": 0,
 "worksheets": [
  {
   "cells": [
    {
     "cell_type": "markdown",
     "metadata": {
      "slideshow": {
       "slide_type": "slide"
      }
     },
     "source": [
      "# Reading PTT Corpus \n",
      "\n",
      "### [Corpus Project] https://github.com/c3h3/PlaYnlp-Corpus"
     ]
    },
    {
     "cell_type": "markdown",
     "metadata": {
      "slideshow": {
       "slide_type": "subslide"
      }
     },
     "source": [
      "# [First Step] git clone the project"
     ]
    },
    {
     "cell_type": "markdown",
     "metadata": {},
     "source": [
      "```\n",
      "$ git clone https://github.com/c3h3/PlaYnlp-Corpus.git\n",
      "```"
     ]
    },
    {
     "cell_type": "markdown",
     "metadata": {
      "slideshow": {
       "slide_type": "subslide"
      }
     },
     "source": [
      "# [Second Step] Extract out the pickle files"
     ]
    },
    {
     "cell_type": "code",
     "collapsed": false,
     "input": [
      "!ls *.pickle"
     ],
     "language": "python",
     "metadata": {},
     "outputs": [
      {
       "output_type": "stream",
       "stream": "stdout",
       "text": [
        "PTT___Food.pickle\t PTT___movie.pickle\t\t\t\t\t    PTT___R_Language.pickle\r\n",
        "PTT___MobileComm.pickle  PTT___Physics_Accounting_Economics_Math_Statistics.pickle\r\n"
       ]
      }
     ],
     "prompt_number": 2
    },
    {
     "cell_type": "markdown",
     "metadata": {
      "slideshow": {
       "slide_type": "subslide"
      }
     },
     "source": [
      "#[Third Step] Read the DataFrame From pickle files"
     ]
    },
    {
     "cell_type": "code",
     "collapsed": false,
     "input": [
      "import pickle\n",
      "\n",
      "with open(\"PTT___Physics_Accounting_Economics_Math_Statistics.pickle\",\"rb\") as read_file:\n",
      "    articles_df,articles_push_df = pickle.load(read_file)"
     ],
     "language": "python",
     "metadata": {},
     "outputs": [],
     "prompt_number": 3
    },
    {
     "cell_type": "markdown",
     "metadata": {
      "slideshow": {
       "slide_type": "subslide"
      }
     },
     "source": [
      "# [Finally] ... DataFrames on your hand ..."
     ]
    },
    {
     "cell_type": "code",
     "collapsed": false,
     "input": [
      "print articles_df.shape\n",
      "articles_df.head()"
     ],
     "language": "python",
     "metadata": {},
     "outputs": [
      {
       "output_type": "stream",
       "stream": "stdout",
       "text": [
        "(85276, 9)\n"
       ]
      },
      {
       "html": [
        "<div style=\"max-height:1000px;max-width:1500px;overflow:auto;\">\n",
        "<table border=\"1\" class=\"dataframe\">\n",
        "  <thead>\n",
        "    <tr style=\"text-align: right;\">\n",
        "      <th></th>\n",
        "      <th>Board</th>\n",
        "      <th>_id</th>\n",
        "      <th>text</th>\n",
        "      <th>time</th>\n",
        "      <th>title</th>\n",
        "      <th>url</th>\n",
        "      <th>user</th>\n",
        "      <th>user_id</th>\n",
        "      <th>user_nickname</th>\n",
        "    </tr>\n",
        "  </thead>\n",
        "  <tbody>\n",
        "    <tr>\n",
        "      <th>0</th>\n",
        "      <td> Accounting</td>\n",
        "      <td> 52f223db74798d7e7bbe9965</td>\n",
        "      <td>   \\n102\u5e74\u8d85\u7d1a\u51fd\u6388CD\u7248\\n\\n\u9ad8\u6703(\u856d\u9756) \u6b32\u552e$2500 NT\\n\\n\u516c\u53f8\u6cd5(\u8463\u8b19...</td>\n",
        "      <td> Wed Feb  5 13:48:58 2014</td>\n",
        "      <td>             [\u51fa\u552e] 102\u5e74\u8d85\u7d1a\u51fd\u6388 \u9ad8\u6703\u3001\u516c\u53f8\u6cd5</td>\n",
        "      <td> http://www.ptt.cc/bbs/Accounting/M.1391579341....</td>\n",
        "      <td>           sunnykiller (\u5929\u7c5f\u4e4b\u8072)</td>\n",
        "      <td>  sunnykiller</td>\n",
        "      <td> \u5929\u7c5f\u4e4b\u8072</td>\n",
        "    </tr>\n",
        "    <tr>\n",
        "      <th>1</th>\n",
        "      <td> Accounting</td>\n",
        "      <td> 52f223db74798d7e78be9965</td>\n",
        "      <td>   \\n\u5982\u6a19\u984c\\n\u5269\u4e0b\u4e00\u6b21\u6388\u6b0a\u5373\u53ef\\n\u8b1b\u7fa9\u6211\u6709\\n\u4f46\u662f\u7f3a\u7b46\u8a18\\n\u5982\u679c\u9858\u610f\u8ce3\u7b46\u8a18\u4e5fOK\\n\\n...</td>\n",
        "      <td> Wed Feb  5 14:44:15 2014</td>\n",
        "      <td>               [\u5fb5\u6c42]\u5f90\u9326\u83ef\u9ad8\u6703DVD or \u8b1b\u7fa9</td>\n",
        "      <td> http://www.ptt.cc/bbs/Accounting/M.1391582662....</td>\n",
        "      <td> JilSander (Doer brokenheart)</td>\n",
        "      <td>    JilSander</td>\n",
        "      <td>  Doe</td>\n",
        "    </tr>\n",
        "    <tr>\n",
        "      <th>2</th>\n",
        "      <td> Accounting</td>\n",
        "      <td> 52f223db74798d7e76be9965</td>\n",
        "      <td>   \\n\u203b \u5f15\u8ff0\u300aflora713 (pretty world)\u300b\u4e4b\u9298\u8a00\uff1a: 1. \u51fa\u552e\uff1a\u5fd7...</td>\n",
        "      <td> Wed Feb  5 16:47:30 2014</td>\n",
        "      <td> Re: [\u51fa\u552e/\u8d08\u9001] \u5fd7\u5149\u5c0a\u69ae\u512a\u60e0\u5238/ \u8d85\u7d1a\u51fd\u6388VIP\u63a8\u85a6\u79ae\u5238</td>\n",
        "      <td> http://www.ptt.cc/bbs/Accounting/M.1391590052....</td>\n",
        "      <td>            lphotoimpact (\u6953\u96ea)</td>\n",
        "      <td> lphotoimpact</td>\n",
        "      <td>   \u6953\u96ea</td>\n",
        "    </tr>\n",
        "    <tr>\n",
        "      <th>3</th>\n",
        "      <td> Accounting</td>\n",
        "      <td> 52f223dd74798d7e7abe9965</td>\n",
        "      <td>   \\n\\n     \u521d\u6703\\n     http://goods.ruten.com.tw/...</td>\n",
        "      <td> Wed Feb  5 14:57:59 2014</td>\n",
        "      <td>      [\u552e] \u521d\u7d1a\u6703\u8a08\u5b78.\u4e2d\u7d1a\u6703\u8a08\u5b78.\u6210\u672c\u6703\u8a08 DVD+\u8b1b\u7fa9</td>\n",
        "      <td> http://www.ptt.cc/bbs/Accounting/M.1391583483....</td>\n",
        "      <td>                  ap22 (\u65cb\u8f49\u74f6\u5b50)</td>\n",
        "      <td>         ap22</td>\n",
        "      <td> \u65cb\u8f49\u74f6\u5b50</td>\n",
        "    </tr>\n",
        "    <tr>\n",
        "      <th>4</th>\n",
        "      <td>       Math</td>\n",
        "      <td> 52f223de74798d7e78be9966</td>\n",
        "      <td>   \\n\u984c\u76ee:\u627e\u5230\u4e00\u500b\u5207\u7dda\u5e73\u9762\u5728:f(x,y)=x^2y\u7684\u5e73\u9762\u4e0a\uff0c\u4ea4\u9ede\u70ba(2,-1,-4)\\...</td>\n",
        "      <td> Tue Feb  4 15:48:18 2014</td>\n",
        "      <td>                 [\u5fae\u7a4d] \u5229\u7528\u65b9\u5411\u5c0e\u6578\u6c42\u5207\u7dda\u4e00\u554f</td>\n",
        "      <td> http://www.ptt.cc/bbs/Math/M.1391500100.A.7D1....</td>\n",
        "      <td>                  gbd37 (\u6709\u5920\u778e)</td>\n",
        "      <td>        gbd37</td>\n",
        "      <td>  \u6709\u5920\u778e</td>\n",
        "    </tr>\n",
        "  </tbody>\n",
        "</table>\n",
        "<p>5 rows \u00d7 9 columns</p>\n",
        "</div>"
       ],
       "metadata": {},
       "output_type": "pyout",
       "prompt_number": 4,
       "text": [
        "        Board                       _id  \\\n",
        "0  Accounting  52f223db74798d7e7bbe9965   \n",
        "1  Accounting  52f223db74798d7e78be9965   \n",
        "2  Accounting  52f223db74798d7e76be9965   \n",
        "3  Accounting  52f223dd74798d7e7abe9965   \n",
        "4        Math  52f223de74798d7e78be9966   \n",
        "\n",
        "                                                text  \\\n",
        "0    \\n102\u5e74\u8d85\u7d1a\u51fd\u6388CD\u7248\\n\\n\u9ad8\u6703(\u856d\u9756) \u6b32\u552e$2500 NT\\n\\n\u516c\u53f8\u6cd5(\u8463\u8b19...   \n",
        "1    \\n\u5982\u6a19\u984c\\n\u5269\u4e0b\u4e00\u6b21\u6388\u6b0a\u5373\u53ef\\n\u8b1b\u7fa9\u6211\u6709\\n\u4f46\u662f\u7f3a\u7b46\u8a18\\n\u5982\u679c\u9858\u610f\u8ce3\u7b46\u8a18\u4e5fOK\\n\\n...   \n",
        "2    \\n\u203b \u5f15\u8ff0\u300aflora713 (pretty world)\u300b\u4e4b\u9298\u8a00\uff1a: 1. \u51fa\u552e\uff1a\u5fd7...   \n",
        "3    \\n\\n     \u521d\u6703\\n     http://goods.ruten.com.tw/...   \n",
        "4    \\n\u984c\u76ee:\u627e\u5230\u4e00\u500b\u5207\u7dda\u5e73\u9762\u5728:f(x,y)=x^2y\u7684\u5e73\u9762\u4e0a\uff0c\u4ea4\u9ede\u70ba(2,-1,-4)\\...   \n",
        "\n",
        "                       time                             title  \\\n",
        "0  Wed Feb  5 13:48:58 2014              [\u51fa\u552e] 102\u5e74\u8d85\u7d1a\u51fd\u6388 \u9ad8\u6703\u3001\u516c\u53f8\u6cd5   \n",
        "1  Wed Feb  5 14:44:15 2014                [\u5fb5\u6c42]\u5f90\u9326\u83ef\u9ad8\u6703DVD or \u8b1b\u7fa9   \n",
        "2  Wed Feb  5 16:47:30 2014  Re: [\u51fa\u552e/\u8d08\u9001] \u5fd7\u5149\u5c0a\u69ae\u512a\u60e0\u5238/ \u8d85\u7d1a\u51fd\u6388VIP\u63a8\u85a6\u79ae\u5238   \n",
        "3  Wed Feb  5 14:57:59 2014       [\u552e] \u521d\u7d1a\u6703\u8a08\u5b78.\u4e2d\u7d1a\u6703\u8a08\u5b78.\u6210\u672c\u6703\u8a08 DVD+\u8b1b\u7fa9   \n",
        "4  Tue Feb  4 15:48:18 2014                  [\u5fae\u7a4d] \u5229\u7528\u65b9\u5411\u5c0e\u6578\u6c42\u5207\u7dda\u4e00\u554f   \n",
        "\n",
        "                                                 url  \\\n",
        "0  http://www.ptt.cc/bbs/Accounting/M.1391579341....   \n",
        "1  http://www.ptt.cc/bbs/Accounting/M.1391582662....   \n",
        "2  http://www.ptt.cc/bbs/Accounting/M.1391590052....   \n",
        "3  http://www.ptt.cc/bbs/Accounting/M.1391583483....   \n",
        "4  http://www.ptt.cc/bbs/Math/M.1391500100.A.7D1....   \n",
        "\n",
        "                           user       user_id user_nickname  \n",
        "0            sunnykiller (\u5929\u7c5f\u4e4b\u8072)   sunnykiller          \u5929\u7c5f\u4e4b\u8072  \n",
        "1  JilSander (Doer brokenheart)     JilSander           Doe  \n",
        "2             lphotoimpact (\u6953\u96ea)  lphotoimpact            \u6953\u96ea  \n",
        "3                   ap22 (\u65cb\u8f49\u74f6\u5b50)          ap22          \u65cb\u8f49\u74f6\u5b50  \n",
        "4                   gbd37 (\u6709\u5920\u778e)         gbd37           \u6709\u5920\u778e  \n",
        "\n",
        "[5 rows x 9 columns]"
       ]
      }
     ],
     "prompt_number": 4
    },
    {
     "cell_type": "code",
     "collapsed": false,
     "input": [
      "print articles_push_df.shape\n",
      "articles_push_df.head()"
     ],
     "language": "python",
     "metadata": {
      "slideshow": {
       "slide_type": "subslide"
      }
     },
     "outputs": [
      {
       "output_type": "stream",
       "stream": "stdout",
       "text": [
        "(442099, 6)\n"
       ]
      },
      {
       "html": [
        "<div style=\"max-height:1000px;max-width:1500px;overflow:auto;\">\n",
        "<table border=\"1\" class=\"dataframe\">\n",
        "  <thead>\n",
        "    <tr style=\"text-align: right;\">\n",
        "      <th></th>\n",
        "      <th>_id</th>\n",
        "      <th>content</th>\n",
        "      <th>datetime</th>\n",
        "      <th>tag</th>\n",
        "      <th>url</th>\n",
        "      <th>userid</th>\n",
        "    </tr>\n",
        "  </thead>\n",
        "  <tbody>\n",
        "    <tr>\n",
        "      <th>0</th>\n",
        "      <td> 52f223db74798d7e76be9966</td>\n",
        "      <td>                                       :OK</td>\n",
        "      <td> 02/05 18:28</td>\n",
        "      <td> \u5653</td>\n",
        "      <td> http://www.ptt.cc/bbs/Accounting/M.1391590052....</td>\n",
        "      <td> ArronAfflalo</td>\n",
        "    </tr>\n",
        "    <tr>\n",
        "      <th>1</th>\n",
        "      <td> 52f223de74798d7e78be9967</td>\n",
        "      <td>               :\u8981\u77e5\u9053\u5207\u5e73\u9762\u662f\u8981\u77e5\u9053\u6cd5\u5411\u91cf\u5427  \u53d6\u4e00\u5e38\u6578\u51fd\u6578 \u03c6 =</td>\n",
        "      <td> 02/04 16:09</td>\n",
        "      <td> \u63a8</td>\n",
        "      <td> http://www.ptt.cc/bbs/Math/M.1391500100.A.7D1....</td>\n",
        "      <td> endlesschaos</td>\n",
        "    </tr>\n",
        "    <tr>\n",
        "      <th>2</th>\n",
        "      <td> 52f223de74798d7e78be9968</td>\n",
        "      <td> :x^2 * y - f(x,y) = 0  grad(\u03c6) \u5c31\u662f \u03c6 \u7684\u6700\u5927\u6539\u8b8a</td>\n",
        "      <td> 02/04 16:11</td>\n",
        "      <td> \u2192</td>\n",
        "      <td> http://www.ptt.cc/bbs/Math/M.1391500100.A.7D1....</td>\n",
        "      <td> endlesschaos</td>\n",
        "    </tr>\n",
        "    <tr>\n",
        "      <th>3</th>\n",
        "      <td> 52f223de74798d7e78be9969</td>\n",
        "      <td>               :\u91cf\u7684\u65b9\u5411  \u63a5\u4e0b\u4f86\u53ea\u8981\u4ee3\u9ede\u5c31\u77e5\u9053\u5728\u67d0\u9ede\u7684\u5b9a\u65b9\u5411  \u6709</td>\n",
        "      <td> 02/04 16:11</td>\n",
        "      <td> \u2192</td>\n",
        "      <td> http://www.ptt.cc/bbs/Math/M.1391500100.A.7D1....</td>\n",
        "      <td> endlesschaos</td>\n",
        "    </tr>\n",
        "    <tr>\n",
        "      <th>4</th>\n",
        "      <td> 52f223de74798d7e78be996a</td>\n",
        "      <td>                               :\u65b9\u5411\u3001\u6709\u9ede\u5c31\u6709\u5e73\u9762\u4e86</td>\n",
        "      <td> 02/04 16:12</td>\n",
        "      <td> \u2192</td>\n",
        "      <td> http://www.ptt.cc/bbs/Math/M.1391500100.A.7D1....</td>\n",
        "      <td> endlesschaos</td>\n",
        "    </tr>\n",
        "  </tbody>\n",
        "</table>\n",
        "<p>5 rows \u00d7 6 columns</p>\n",
        "</div>"
       ],
       "metadata": {},
       "output_type": "pyout",
       "prompt_number": 5,
       "text": [
        "                        _id                                    content  \\\n",
        "0  52f223db74798d7e76be9966                                        :OK   \n",
        "1  52f223de74798d7e78be9967                :\u8981\u77e5\u9053\u5207\u5e73\u9762\u662f\u8981\u77e5\u9053\u6cd5\u5411\u91cf\u5427  \u53d6\u4e00\u5e38\u6578\u51fd\u6578 \u03c6 =   \n",
        "2  52f223de74798d7e78be9968  :x^2 * y - f(x,y) = 0  grad(\u03c6) \u5c31\u662f \u03c6 \u7684\u6700\u5927\u6539\u8b8a   \n",
        "3  52f223de74798d7e78be9969                :\u91cf\u7684\u65b9\u5411  \u63a5\u4e0b\u4f86\u53ea\u8981\u4ee3\u9ede\u5c31\u77e5\u9053\u5728\u67d0\u9ede\u7684\u5b9a\u65b9\u5411  \u6709   \n",
        "4  52f223de74798d7e78be996a                                :\u65b9\u5411\u3001\u6709\u9ede\u5c31\u6709\u5e73\u9762\u4e86   \n",
        "\n",
        "      datetime tag                                                url  \\\n",
        "0  02/05 18:28   \u5653  http://www.ptt.cc/bbs/Accounting/M.1391590052....   \n",
        "1  02/04 16:09   \u63a8  http://www.ptt.cc/bbs/Math/M.1391500100.A.7D1....   \n",
        "2  02/04 16:11   \u2192  http://www.ptt.cc/bbs/Math/M.1391500100.A.7D1....   \n",
        "3  02/04 16:11   \u2192  http://www.ptt.cc/bbs/Math/M.1391500100.A.7D1....   \n",
        "4  02/04 16:12   \u2192  http://www.ptt.cc/bbs/Math/M.1391500100.A.7D1....   \n",
        "\n",
        "         userid  \n",
        "0  ArronAfflalo  \n",
        "1  endlesschaos  \n",
        "2  endlesschaos  \n",
        "3  endlesschaos  \n",
        "4  endlesschaos  \n",
        "\n",
        "[5 rows x 6 columns]"
       ]
      }
     ],
     "prompt_number": 5
    },
    {
     "cell_type": "markdown",
     "metadata": {},
     "source": []
    },
    {
     "cell_type": "markdown",
     "metadata": {},
     "source": []
    },
    {
     "cell_type": "markdown",
     "metadata": {},
     "source": []
    },
    {
     "cell_type": "markdown",
     "metadata": {},
     "source": []
    }
   ],
   "metadata": {}
  }
 ]
}