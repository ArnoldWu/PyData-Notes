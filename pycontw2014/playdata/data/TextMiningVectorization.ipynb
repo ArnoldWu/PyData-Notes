{
 "metadata": {
  "celltoolbar": "Slideshow",
  "name": "",
  "signature": "sha256:b130ecfb9039cde9f72c4402c369517c01a525da5778e5a18c33371d91bc3b72"
 },
 "nbformat": 3,
 "nbformat_minor": 0,
 "worksheets": [
  {
   "cells": [
    {
     "cell_type": "markdown",
     "metadata": {
      "slideshow": {
       "slide_type": "slide"
      }
     },
     "source": [
      "# [1st Step] Read Corpus\n",
      "\n",
      "### [Corpus Project] https://github.com/c3h3/PlaYnlp-Corpus"
     ]
    },
    {
     "cell_type": "code",
     "collapsed": false,
     "input": [
      "import pickle\n",
      "\n",
      "with open(\"PTT___Physics_Accounting_Economics_Math_Statistics.pickle\",\"rb\") as read_file:\n",
      "    articles_df, articles_push_df = pickle.load(read_file)"
     ],
     "language": "python",
     "metadata": {},
     "outputs": [],
     "prompt_number": 3
    },
    {
     "cell_type": "code",
     "collapsed": false,
     "input": [
      "articles_df.head()"
     ],
     "language": "python",
     "metadata": {},
     "outputs": [
      {
       "html": [
        "<div style=\"max-height:1000px;max-width:1500px;overflow:auto;\">\n",
        "<table border=\"1\" class=\"dataframe\">\n",
        "  <thead>\n",
        "    <tr style=\"text-align: right;\">\n",
        "      <th></th>\n",
        "      <th>Board</th>\n",
        "      <th>_id</th>\n",
        "      <th>text</th>\n",
        "      <th>time</th>\n",
        "      <th>title</th>\n",
        "      <th>url</th>\n",
        "      <th>user</th>\n",
        "      <th>user_id</th>\n",
        "      <th>user_nickname</th>\n",
        "    </tr>\n",
        "  </thead>\n",
        "  <tbody>\n",
        "    <tr>\n",
        "      <th>0</th>\n",
        "      <td> Accounting</td>\n",
        "      <td> 52f223db74798d7e7bbe9965</td>\n",
        "      <td>   \\n102\u5e74\u8d85\u7d1a\u51fd\u6388CD\u7248\\n\\n\u9ad8\u6703(\u856d\u9756) \u6b32\u552e$2500 NT\\n\\n\u516c\u53f8\u6cd5(\u8463\u8b19...</td>\n",
        "      <td> Wed Feb  5 13:48:58 2014</td>\n",
        "      <td>             [\u51fa\u552e] 102\u5e74\u8d85\u7d1a\u51fd\u6388 \u9ad8\u6703\u3001\u516c\u53f8\u6cd5</td>\n",
        "      <td> http://www.ptt.cc/bbs/Accounting/M.1391579341....</td>\n",
        "      <td>           sunnykiller (\u5929\u7c5f\u4e4b\u8072)</td>\n",
        "      <td>  sunnykiller</td>\n",
        "      <td> \u5929\u7c5f\u4e4b\u8072</td>\n",
        "    </tr>\n",
        "    <tr>\n",
        "      <th>1</th>\n",
        "      <td> Accounting</td>\n",
        "      <td> 52f223db74798d7e78be9965</td>\n",
        "      <td>   \\n\u5982\u6a19\u984c\\n\u5269\u4e0b\u4e00\u6b21\u6388\u6b0a\u5373\u53ef\\n\u8b1b\u7fa9\u6211\u6709\\n\u4f46\u662f\u7f3a\u7b46\u8a18\\n\u5982\u679c\u9858\u610f\u8ce3\u7b46\u8a18\u4e5fOK\\n\\n...</td>\n",
        "      <td> Wed Feb  5 14:44:15 2014</td>\n",
        "      <td>               [\u5fb5\u6c42]\u5f90\u9326\u83ef\u9ad8\u6703DVD or \u8b1b\u7fa9</td>\n",
        "      <td> http://www.ptt.cc/bbs/Accounting/M.1391582662....</td>\n",
        "      <td> JilSander (Doer brokenheart)</td>\n",
        "      <td>    JilSander</td>\n",
        "      <td>  Doe</td>\n",
        "    </tr>\n",
        "    <tr>\n",
        "      <th>2</th>\n",
        "      <td> Accounting</td>\n",
        "      <td> 52f223db74798d7e76be9965</td>\n",
        "      <td>   \\n\u203b \u5f15\u8ff0\u300aflora713 (pretty world)\u300b\u4e4b\u9298\u8a00\uff1a: 1. \u51fa\u552e\uff1a\u5fd7...</td>\n",
        "      <td> Wed Feb  5 16:47:30 2014</td>\n",
        "      <td> Re: [\u51fa\u552e/\u8d08\u9001] \u5fd7\u5149\u5c0a\u69ae\u512a\u60e0\u5238/ \u8d85\u7d1a\u51fd\u6388VIP\u63a8\u85a6\u79ae\u5238</td>\n",
        "      <td> http://www.ptt.cc/bbs/Accounting/M.1391590052....</td>\n",
        "      <td>            lphotoimpact (\u6953\u96ea)</td>\n",
        "      <td> lphotoimpact</td>\n",
        "      <td>   \u6953\u96ea</td>\n",
        "    </tr>\n",
        "    <tr>\n",
        "      <th>3</th>\n",
        "      <td> Accounting</td>\n",
        "      <td> 52f223dd74798d7e7abe9965</td>\n",
        "      <td>   \\n\\n     \u521d\u6703\\n     http://goods.ruten.com.tw/...</td>\n",
        "      <td> Wed Feb  5 14:57:59 2014</td>\n",
        "      <td>      [\u552e] \u521d\u7d1a\u6703\u8a08\u5b78.\u4e2d\u7d1a\u6703\u8a08\u5b78.\u6210\u672c\u6703\u8a08 DVD+\u8b1b\u7fa9</td>\n",
        "      <td> http://www.ptt.cc/bbs/Accounting/M.1391583483....</td>\n",
        "      <td>                  ap22 (\u65cb\u8f49\u74f6\u5b50)</td>\n",
        "      <td>         ap22</td>\n",
        "      <td> \u65cb\u8f49\u74f6\u5b50</td>\n",
        "    </tr>\n",
        "    <tr>\n",
        "      <th>4</th>\n",
        "      <td>       Math</td>\n",
        "      <td> 52f223de74798d7e78be9966</td>\n",
        "      <td>   \\n\u984c\u76ee:\u627e\u5230\u4e00\u500b\u5207\u7dda\u5e73\u9762\u5728:f(x,y)=x^2y\u7684\u5e73\u9762\u4e0a\uff0c\u4ea4\u9ede\u70ba(2,-1,-4)\\...</td>\n",
        "      <td> Tue Feb  4 15:48:18 2014</td>\n",
        "      <td>                 [\u5fae\u7a4d] \u5229\u7528\u65b9\u5411\u5c0e\u6578\u6c42\u5207\u7dda\u4e00\u554f</td>\n",
        "      <td> http://www.ptt.cc/bbs/Math/M.1391500100.A.7D1....</td>\n",
        "      <td>                  gbd37 (\u6709\u5920\u778e)</td>\n",
        "      <td>        gbd37</td>\n",
        "      <td>  \u6709\u5920\u778e</td>\n",
        "    </tr>\n",
        "  </tbody>\n",
        "</table>\n",
        "<p>5 rows \u00d7 9 columns</p>\n",
        "</div>"
       ],
       "metadata": {},
       "output_type": "pyout",
       "prompt_number": 5,
       "text": [
        "        Board                       _id  \\\n",
        "0  Accounting  52f223db74798d7e7bbe9965   \n",
        "1  Accounting  52f223db74798d7e78be9965   \n",
        "2  Accounting  52f223db74798d7e76be9965   \n",
        "3  Accounting  52f223dd74798d7e7abe9965   \n",
        "4        Math  52f223de74798d7e78be9966   \n",
        "\n",
        "                                                text  \\\n",
        "0    \\n102\u5e74\u8d85\u7d1a\u51fd\u6388CD\u7248\\n\\n\u9ad8\u6703(\u856d\u9756) \u6b32\u552e$2500 NT\\n\\n\u516c\u53f8\u6cd5(\u8463\u8b19...   \n",
        "1    \\n\u5982\u6a19\u984c\\n\u5269\u4e0b\u4e00\u6b21\u6388\u6b0a\u5373\u53ef\\n\u8b1b\u7fa9\u6211\u6709\\n\u4f46\u662f\u7f3a\u7b46\u8a18\\n\u5982\u679c\u9858\u610f\u8ce3\u7b46\u8a18\u4e5fOK\\n\\n...   \n",
        "2    \\n\u203b \u5f15\u8ff0\u300aflora713 (pretty world)\u300b\u4e4b\u9298\u8a00\uff1a: 1. \u51fa\u552e\uff1a\u5fd7...   \n",
        "3    \\n\\n     \u521d\u6703\\n     http://goods.ruten.com.tw/...   \n",
        "4    \\n\u984c\u76ee:\u627e\u5230\u4e00\u500b\u5207\u7dda\u5e73\u9762\u5728:f(x,y)=x^2y\u7684\u5e73\u9762\u4e0a\uff0c\u4ea4\u9ede\u70ba(2,-1,-4)\\...   \n",
        "\n",
        "                       time                             title  \\\n",
        "0  Wed Feb  5 13:48:58 2014              [\u51fa\u552e] 102\u5e74\u8d85\u7d1a\u51fd\u6388 \u9ad8\u6703\u3001\u516c\u53f8\u6cd5   \n",
        "1  Wed Feb  5 14:44:15 2014                [\u5fb5\u6c42]\u5f90\u9326\u83ef\u9ad8\u6703DVD or \u8b1b\u7fa9   \n",
        "2  Wed Feb  5 16:47:30 2014  Re: [\u51fa\u552e/\u8d08\u9001] \u5fd7\u5149\u5c0a\u69ae\u512a\u60e0\u5238/ \u8d85\u7d1a\u51fd\u6388VIP\u63a8\u85a6\u79ae\u5238   \n",
        "3  Wed Feb  5 14:57:59 2014       [\u552e] \u521d\u7d1a\u6703\u8a08\u5b78.\u4e2d\u7d1a\u6703\u8a08\u5b78.\u6210\u672c\u6703\u8a08 DVD+\u8b1b\u7fa9   \n",
        "4  Tue Feb  4 15:48:18 2014                  [\u5fae\u7a4d] \u5229\u7528\u65b9\u5411\u5c0e\u6578\u6c42\u5207\u7dda\u4e00\u554f   \n",
        "\n",
        "                                                 url  \\\n",
        "0  http://www.ptt.cc/bbs/Accounting/M.1391579341....   \n",
        "1  http://www.ptt.cc/bbs/Accounting/M.1391582662....   \n",
        "2  http://www.ptt.cc/bbs/Accounting/M.1391590052....   \n",
        "3  http://www.ptt.cc/bbs/Accounting/M.1391583483....   \n",
        "4  http://www.ptt.cc/bbs/Math/M.1391500100.A.7D1....   \n",
        "\n",
        "                           user       user_id user_nickname  \n",
        "0            sunnykiller (\u5929\u7c5f\u4e4b\u8072)   sunnykiller          \u5929\u7c5f\u4e4b\u8072  \n",
        "1  JilSander (Doer brokenheart)     JilSander           Doe  \n",
        "2             lphotoimpact (\u6953\u96ea)  lphotoimpact            \u6953\u96ea  \n",
        "3                   ap22 (\u65cb\u8f49\u74f6\u5b50)          ap22          \u65cb\u8f49\u74f6\u5b50  \n",
        "4                   gbd37 (\u6709\u5920\u778e)         gbd37           \u6709\u5920\u778e  \n",
        "\n",
        "[5 rows x 9 columns]"
       ]
      }
     ],
     "prompt_number": 5
    },
    {
     "cell_type": "code",
     "collapsed": false,
     "input": [
      "articles_df[\"title\"]"
     ],
     "language": "python",
     "metadata": {
      "slideshow": {
       "slide_type": "subslide"
      }
     },
     "outputs": [
      {
       "metadata": {},
       "output_type": "pyout",
       "prompt_number": 6,
       "text": [
        "0                 [\u51fa\u552e] 102\u5e74\u8d85\u7d1a\u51fd\u6388 \u9ad8\u6703\u3001\u516c\u53f8\u6cd5\n",
        "1                   [\u5fb5\u6c42]\u5f90\u9326\u83ef\u9ad8\u6703DVD or \u8b1b\u7fa9\n",
        "2     Re: [\u51fa\u552e/\u8d08\u9001] \u5fd7\u5149\u5c0a\u69ae\u512a\u60e0\u5238/ \u8d85\u7d1a\u51fd\u6388VIP\u63a8\u85a6\u79ae\u5238\n",
        "3          [\u552e] \u521d\u7d1a\u6703\u8a08\u5b78.\u4e2d\u7d1a\u6703\u8a08\u5b78.\u6210\u672c\u6703\u8a08 DVD+\u8b1b\u7fa9\n",
        "4                     [\u5fae\u7a4d] \u5229\u7528\u65b9\u5411\u5c0e\u6578\u6c42\u5207\u7dda\u4e00\u554f\n",
        "5           [\u5176\u4ed6] interpolation\u7684\u5b58\u5728\u548c\u552f\u4e00\u8b49\u660e\n",
        "6                   [\u5fae\u7a4d] taylor series\n",
        "7               [\u8acb\u76ca] \u770b\u5230\u4ee5\u591a\u7dad\u5ea6\u4e16\u754c\u70ba\u4e3b\u984c\u7684\uff34\uff25\uff24\u5f71\u7247\n",
        "8                          [\u8acb\u76ca] \u79fb\u52d5\u5217\u8eca\u554f\u984c\n",
        "9            [\u6a5f\u7d71] \u9ad8\u5cf0\u5de6\u504f\u53f3\u504f\u6642\u7684\u4e2d\u4f4d\u6578 \u773e\u6578 \u5e73\u5747\u6578\u9806\u5e8f\n",
        "10                     [\u5fae\u7a4d] \u5169\u984c\u5fae\u7a4d\u5206\u6c42\u8a08\u7b97\u904e\u7a0b\n",
        "11            Wed Feb  5 13:53:21 2014\n",
        "12         [\u554f\u984c] \u6709\u95dc\u539f\u5b50\u8ecc\u57df  \u5169\u500bl(\u5c0f\u5bebL)=1 \u7684\u96fb\u5b50\n",
        "13        Re: [\u554f\u984c] \u7269\u8cea\u6240\u7522\u751f\u4e4b\u885d\u64ca\u61c9\u4ee5\u52d5\u91cf\u9084\u662f\u52d5\u80fd\u8a08\u7b97?\n",
        "14                    Re: [\u5176\u4ed6] \u5de5\u6578 1/LD\n",
        "...\n",
        "85261            [\u60c5\u5831] \u7528R\u50b3\u9001facebook/google talk\u8a0a\u606f\n",
        "85262                              [\u554f\u984c] z\u6aa2\u5b9a\u81ea\u7531\u5ea6\u554f\u984c\n",
        "85263    [\u554f\u984c] location scale invariant statistic\n",
        "85264                              [\u554f\u984c] \u8ff4\u6b78\u548c\u7368\u7acb\u7684\u554f\u984c\n",
        "85265          [\u554f\u984c] -2\u03b8\u03a3lnXi\u662ff(x|\u03b8)=\u03b8x^(\u03b8-1)\u95dc\u9375\u5f0f?\n",
        "85266                                   [\u7a0b\u5f0f] SAS\n",
        "85267                          [\u554f\u984c] \u53ef\u4ee5\u554f\u4e00\u4e0b\u9ad8\u96c4\u5927\u5b78\u7684\u984c\u76ee\n",
        "85268                           Re: [\u8acb\u554f] \u5e7c\u7a1a\u5712\u7d71\u8a08\u554f\u984c\n",
        "85269                                 [\u554f\u984c] \u7d71\u8a08\u521d\u5b78\u8005\n",
        "85270                      [\u554f\u984c] \u6709memoryless\u7684\u9023\u7e8c\u5206\u914d\n",
        "85271                           [\u554f\u984c] SAS 9.3\u5b89\u88dd\u554f\u984c\n",
        "85272           [\u554f\u984c] Simultaneous equation model\n",
        "85273                                [\u554f\u984c] \u6307\u6578\u65cf\u7684\u554f\u984c\n",
        "85274                         [\u554f\u984c] \u6210\u5927\u7d71\u8a08\u6240 \u7d71\u8a08\u5b78\u8003\u79d1\u6e96\u5099\n",
        "85275                        [\u554f\u984c] \u8acb\u554f\u4e00\u500b\u56de\u6b78ANOVA\u7684\u554f\u984c\n",
        "Name: title, Length: 85276, dtype: object"
       ]
      }
     ],
     "prompt_number": 6
    },
    {
     "cell_type": "code",
     "collapsed": false,
     "input": [
      "articles_df[\"text\"]"
     ],
     "language": "python",
     "metadata": {
      "slideshow": {
       "slide_type": "subslide"
      }
     },
     "outputs": [
      {
       "metadata": {},
       "output_type": "pyout",
       "prompt_number": 7,
       "text": [
        "0       \\n102\u5e74\u8d85\u7d1a\u51fd\u6388CD\u7248\\n\\n\u9ad8\u6703(\u856d\u9756) \u6b32\u552e$2500 NT\\n\\n\u516c\u53f8\u6cd5(\u8463\u8b19...\n",
        "1       \\n\u5982\u6a19\u984c\\n\u5269\u4e0b\u4e00\u6b21\u6388\u6b0a\u5373\u53ef\\n\u8b1b\u7fa9\u6211\u6709\\n\u4f46\u662f\u7f3a\u7b46\u8a18\\n\u5982\u679c\u9858\u610f\u8ce3\u7b46\u8a18\u4e5fOK\\n\\n...\n",
        "2       \\n\u203b \u5f15\u8ff0\u300aflora713 (pretty world)\u300b\u4e4b\u9298\u8a00\uff1a: 1. \u51fa\u552e\uff1a\u5fd7...\n",
        "3       \\n\\n     \u521d\u6703\\n     http://goods.ruten.com.tw/...\n",
        "4       \\n\u984c\u76ee:\u627e\u5230\u4e00\u500b\u5207\u7dda\u5e73\u9762\u5728:f(x,y)=x^2y\u7684\u5e73\u9762\u4e0a\uff0c\u4ea4\u9ede\u70ba(2,-1,-4)\\...\n",
        "5       \\n\\n\\n\\n\u5c0d\u65bcn+1\u9ede\u505an\u6b21\u7684interpolation\\n\\n\u8a2d\u5b58\u5728P1\u548cP2 ...\n",
        "6       \\nhttp://ppt.cc/ft7A\\n\\n\u539f\u65b9\u7a0b\u5f0f\u7684taylor series\u70ba\\...\n",
        "7       \\n\u6628\u5929\u5728\uff34\uff25\uff24\u5f71\u7247\u4e2d\u770b\u5230\u4e00\u5247\u63a2\u8a0e\u591a\u7dad\u5ea6\u4e16\u754c\u7684\u7247\u5b50\uff0c\u89ba\u5f97\u5f88\u6709\u8da3\uff0c\\n\\n\\nhttp:/...\n",
        "8       \\n\u5047\u8a2d\u4e00\u7b49\u901f\u5ea6\u5217\u8eca\\n\u5728\u5176\u4e2d\u73a9\u9059\u63a7\u98db\u6a5f  (\u64cd\u63a7\u4e0a\u5347)  \u53ea\u6709\u5782\u76f4\u5f80\u4e0a\u7684\u529b\\n\u90a3\u9ebc\u9059\u63a7...\n",
        "9       \\n\u6211\u60f3\u8acb\u554f\u4e00\u4e0b\\n\\n\u600e\u9ebc\u7406\u89e3\u76f4\u65b9\u5716\u9ad8\u5cf0\u5de6\u504f\u53f3\u504f\u6642\u7684\u4e2d\u4f4d\u6578 \u773e\u6578 \u5e73\u5747\u6578\u9806\u5e8f\u5462\\n\\n...\n",
        "10      \\n\u8acb\u554f\u5404\u4f4d\u9ad8\u624b\uff0c\\n\\n\\n\u90194\u984c\u5fae\u7a4d\u5206\u7684\u8a08\u7b97\u904e\u7a0b\u3002\\n\\n\\nhttp://ppt....\n",
        "11      \\n\u66f8\u4e0a\u5beb\\nnXm\u7684\u77e9\u9663A\\n\u5982A\u4e2d\u7684\u884c\u5411\u91cf\u7686\u70balinear independent\uff0c...\n",
        "12      \\n\\n\\n\u5169\u500bl=1 \u7684\u96fb\u5b50\\n\\n\u4e0d\u80fd\u7d50\u5408\u6210    \u4e0a\u6a19  -> 3S\u55ce\\n\\n\u5c31\u662f...\n",
        "13      \\n1.\u7531\u67cf\u52aa\u7acb\u5c07\u51fa\u53e3\u6d41\u901f\u5beb\u6210 \u9ad8\u8655\u58d3\u529b\u7684\u51fd\u6578 V=f(P)\\n   V=[2(P/10...\n",
        "14      \\n\u203b \u5f15\u8ff0\u300aopa5566 (\u653e\u5927\u5668)\u300b\u4e4b\u9298\u8a00\uff1a: http://ppt.cc/Rj~...\n",
        "...\n",
        "85261      \\n\u5927\u5bb6\u597d\\n\\n\u6211\u7531\u65bc\u9700\u8981\u7528R\u8dd1\u4e00\u4e9b\u9577\u6642\u9593\u7684\u5be6\u9a57\uff0c\u5e38\u5e38\u5e0c\u671b\u8dd1\u5b8c\u5f8c\u80fd\u5920\u8b93R\u4e3b\u52d5\u901a\u77e5\u6211\uff0c\\...\n",
        "85262      \\n\u984c\u76ee\u70ba\u5169\u7368\u7acb\u6bcd\u9ad4\u6aa2\u5b9a\u5e73\u5747\u7684\u5de6\u5c3e\u6aa2\u5b9a\uff0cn1=34   n2=52\\nHo: u1=u2...\n",
        "85263      \\n\\n\u5728Hogg\u7684\u66f8\u88e1\u9762\u6709\u63d0\u5230\u9019\u500b\u7d71\u8a08\u91cf\\n\\n\u4e0d\u904e\u770b\u4ed6\u7684\u6558\u8ff0\u9084\u662f\u770b\u4e0d\u592a\u61c2\\n\\n\u9019\u500b...\n",
        "85264      \\n\\n1. X_1,...,X_n are iid in f(x)\\n\\n  f(x)...\n",
        "85265      \\nXi iid~ f(x|\u03b8)=\u03b8x^(\u03b8-1)\\n\u70ba\u4f55 -2\u03b8\u03a3lnXi\u662f\u95dc\u9375\u5f0f\uff1f\\...\n",
        "85266      \\n\\n[\u8edf\u9ad4\u7a0b\u5f0f\u985e\u5225]:\\nSAS\\n\\n[\u7a0b\u5f0f\u554f\u984c]:\\n\u8cc7\u6599\u6536\u96c6\\n\\n[\u8edf\u9ad4\u719f\u6089...\n",
        "85267      \\n\\n\\n1.An acceptance sampling plan uses a s...\n",
        "85268      \\n\u5f88\u6709\u8da3\u7684\u554f\u984c\uff0c\u5f9e\u4f86\u6c92\u60f3\u904e\u600e\u9ebc\u51fa\u4f86\u7684\uff0c\\n\u5bb3\u6211\u60f3\u4e86\u5feb1\u500b\u5c0f\u6642XDD\\n\u4ee5\u4e0b\u662f\u4e0d\u8ca0\u8cac\u89e3\u8aaa...\n",
        "85269      \\n\\n\\n\u60f3\u8acb\u6559\u677f\u4e0a\u5927\u5927\uff1a\\n\\n\u6211\u8a2d\u8a08\u4e86\u4e00\u4efd\u554f\u5377\u4e0d\u77e5\u9053\u8981\u5728SPSS19\u7248\u4e2d\u7684  \u6e2c\u91cf...\n",
        "85270      \\n\\n\u6709\u4e00\u6bb5\u6558\u8ff0\u662f\u8aaa\\n\\n\"exponential distribution\u662f\u552f\u4e00\u4e00...\n",
        "85271      \\n\u76ee\u524d\u5b89\u88dd\u9032\u5ea6\u5230\"\u6307\u5b9a SAS \u5b89\u88dd\u8cc7\u6599\u6a94\"\u7684\u90e8\u4efd\\n\\n\u7136\u5f8c\u9ede\u9078\"\u700f\u89bd\"\u627elicen...\n",
        "85272      \\n\u8acb\u6559\u5404\u4f4d\\n\\n\u5c0f\u5f1f\u4f7f\u7528Simultaneous equation model\u5728\u6e2c\u5b9a...\n",
        "85273      \\n\u300a\u6578\u7406\u7d71\u8a08\u91cd\u9ede\u6574\u7406\u300b(\u90ed\u660e\u6176,2010)\\n\u7b2c1-37\u9801\u63d0\u5230\uff0c\\n\u82e5X1,...,X...\n",
        "85274      \\n\u5982\u984c\\n\\n\u6211\u73fe\u5728\u76ee\u524d\u72c0\u6cc1\u662f \u6a5f\u7387\u8ad6 \u8ddf \u6578\u7d71 \u90fd\u8b80\u904e\u4e86 (\u90ed\u660e\u6176\u8001\u5e2b\u7684\u66f8)\\n\\n...\n",
        "85275      \\n\u6700\u8fd1\u505a\u5230\u4e00\u984c\u8ff4\u6b78ANOVA\\n\\n\u5176\u4e2d\u6709\u4e00\u984c\u662f\u6aa2\u5b9aH_0:\u03b2_1=0\\n      ...\n",
        "Name: text, Length: 85276, dtype: object"
       ]
      }
     ],
     "prompt_number": 7
    },
    {
     "cell_type": "markdown",
     "metadata": {
      "slideshow": {
       "slide_type": "slide"
      }
     },
     "source": [
      "# [2nd Step] import tokenizer & vectorizer"
     ]
    },
    {
     "cell_type": "code",
     "collapsed": false,
     "input": [
      "import PlaYnlp.tokenizer as tkr \n",
      "import PlaYnlp.vectorizer as vcr"
     ],
     "language": "python",
     "metadata": {},
     "outputs": [],
     "prompt_number": 8
    },
    {
     "cell_type": "markdown",
     "metadata": {
      "slideshow": {
       "slide_type": "subslide"
      }
     },
     "source": [
      "# [3rd Step] three types of initialize tokenizers"
     ]
    },
    {
     "cell_type": "code",
     "collapsed": false,
     "input": [
      "jieba_without_html_tokenizer = tkr.tokenize_gen(lambda text:tkr.jieba.cut(tkr.nltk.clean_html(text)))\n",
      "unigram_without_html_tokenizer = tkr.tokenize_gen(lambda text:tkr.skipped_ngram(tkr.nltk.clean_html(text),n=1))\n",
      "bigram_without_html_tokenizer = tkr.tokenize_gen(lambda text:tkr.skipped_ngram(tkr.nltk.clean_html(text),n=2))"
     ],
     "language": "python",
     "metadata": {},
     "outputs": [],
     "prompt_number": 10
    },
    {
     "cell_type": "markdown",
     "metadata": {
      "slideshow": {
       "slide_type": "subslide"
      }
     },
     "source": [
      "# [4th Step] packing them into their vec_count_kwargs"
     ]
    },
    {
     "cell_type": "code",
     "collapsed": false,
     "input": [
      "jieba_vec_count_kwargs = {\"tokenizer\":jieba_without_html_tokenizer,\"lowercase\":False}\n",
      "unigram_vec_count_kwargs = {\"tokenizer\":unigram_without_html_tokenizer,\"lowercase\":False}\n",
      "bigram_vec_count_kwargs = {\"tokenizer\":bigram_without_html_tokenizer,\"lowercase\":False}"
     ],
     "language": "python",
     "metadata": {},
     "outputs": [],
     "prompt_number": 11
    },
    {
     "cell_type": "markdown",
     "metadata": {},
     "source": [
      "# [5th Step] vectorize the corpus with different tokenizers"
     ]
    },
    {
     "cell_type": "code",
     "collapsed": false,
     "input": [
      "PTT___movie_title_jieba_sdtm = vcr.vectorize_text(df=articles_df,\n",
      "                                                 text_col=\"title\", \n",
      "                                                 idx_col=\"url\", \n",
      "                                                 vect_gen=vcr.CountVectorizer, \n",
      "                                                 vect_gen_init_kwargs = jieba_vec_count_kwargs)\n",
      "\n",
      "PTT___movie_title_unigram_sdtm = vcr.vectorize_text(df=articles_df,\n",
      "                                                 text_col=\"title\", \n",
      "                                                 idx_col=\"url\", \n",
      "                                                 vect_gen=vcr.CountVectorizer, \n",
      "                                                 vect_gen_init_kwargs = unigram_vec_count_kwargs)\n",
      "\n",
      "PTT___movie_title_bigram_sdtm = vcr.vectorize_text(df=articles_df,\n",
      "                                                  text_col=\"title\", \n",
      "                                                  idx_col=\"url\", \n",
      "                                                  vect_gen=vcr.CountVectorizer, \n",
      "                                                  vect_gen_init_kwargs = bigram_vec_count_kwargs)\n"
     ],
     "language": "python",
     "metadata": {},
     "outputs": [
      {
       "output_type": "stream",
       "stream": "stderr",
       "text": [
        "Building Trie..., from /usr/local/lib/python2.7/dist-packages/jieba/dict.txt\n",
        "dumping model to file cache /tmp/jieba.cache"
       ]
      },
      {
       "output_type": "stream",
       "stream": "stderr",
       "text": [
        "\n",
        "loading model cost "
       ]
      },
      {
       "output_type": "stream",
       "stream": "stderr",
       "text": [
        " 5.80893015862 seconds.\n",
        "Trie has been built succesfully.\n"
       ]
      }
     ],
     "prompt_number": 12
    },
    {
     "cell_type": "code",
     "collapsed": false,
     "input": [
      "PTT___movie_title_jieba_sdtm"
     ],
     "language": "python",
     "metadata": {},
     "outputs": [
      {
       "metadata": {},
       "output_type": "pyout",
       "prompt_number": 13,
       "text": [
        "{'col_idx': array([u' ', u'!', u'\"', ..., u'\\uff56', u'\\uff5c', u'\\uff5e'], \n",
        "       dtype='<U32'),\n",
        " 'row_idx': array([u'http://www.ptt.cc/bbs/Accounting/M.1391579341.A.20A.html',\n",
        "        u'http://www.ptt.cc/bbs/Accounting/M.1391582662.A.8A1.html',\n",
        "        u'http://www.ptt.cc/bbs/Accounting/M.1391590052.A.364.html', ...,\n",
        "        u'http://www.ptt.cc/bbs/Statistics/M.1360249087.A.CF0.html',\n",
        "        u'http://www.ptt.cc/bbs/Statistics/M.1360337458.A.280.html',\n",
        "        u'http://www.ptt.cc/bbs/Statistics/M.1360509019.A.DF2.html'], dtype=object),\n",
        " 'smatrix': <85276x27599 sparse matrix of type '<type 'numpy.int64'>'\n",
        " \twith 826954 stored elements in Compressed Sparse Column format>}"
       ]
      }
     ],
     "prompt_number": 13
    },
    {
     "cell_type": "code",
     "collapsed": false,
     "input": [
      "PTT___movie_title_unigram_sdtm"
     ],
     "language": "python",
     "metadata": {},
     "outputs": [
      {
       "metadata": {},
       "output_type": "pyout",
       "prompt_number": 14,
       "text": [
        "{'col_idx': array([u'!', u'\"', u'#', ..., u'\\uff56', u'\\uff5c', u'\\uff5e'], \n",
        "       dtype='<U36'),\n",
        " 'row_idx': array([u'http://www.ptt.cc/bbs/Accounting/M.1391579341.A.20A.html',\n",
        "        u'http://www.ptt.cc/bbs/Accounting/M.1391582662.A.8A1.html',\n",
        "        u'http://www.ptt.cc/bbs/Accounting/M.1391590052.A.364.html', ...,\n",
        "        u'http://www.ptt.cc/bbs/Statistics/M.1360249087.A.CF0.html',\n",
        "        u'http://www.ptt.cc/bbs/Statistics/M.1360337458.A.280.html',\n",
        "        u'http://www.ptt.cc/bbs/Statistics/M.1360509019.A.DF2.html'], dtype=object),\n",
        " 'smatrix': <85276x15207 sparse matrix of type '<type 'numpy.int64'>'\n",
        " \twith 1045009 stored elements in Compressed Sparse Column format>}"
       ]
      }
     ],
     "prompt_number": 14
    },
    {
     "cell_type": "code",
     "collapsed": false,
     "input": [
      "PTT___movie_title_bigram_sdtm"
     ],
     "language": "python",
     "metadata": {},
     "outputs": [
      {
       "metadata": {},
       "output_type": "pyout",
       "prompt_number": 15,
       "text": [
        "{'col_idx': array([u'!!', u'!(', u'!)', ..., u'\\uff5e\\uff01', u'\\uff5e\\uff19',\n",
        "        u'\\uff5e\\uff5e'], \n",
        "       dtype='<U36'),\n",
        " 'row_idx': array([u'http://www.ptt.cc/bbs/Accounting/M.1391579341.A.20A.html',\n",
        "        u'http://www.ptt.cc/bbs/Accounting/M.1391582662.A.8A1.html',\n",
        "        u'http://www.ptt.cc/bbs/Accounting/M.1391590052.A.364.html', ...,\n",
        "        u'http://www.ptt.cc/bbs/Statistics/M.1360249087.A.CF0.html',\n",
        "        u'http://www.ptt.cc/bbs/Statistics/M.1360337458.A.280.html',\n",
        "        u'http://www.ptt.cc/bbs/Statistics/M.1360509019.A.DF2.html'], dtype=object),\n",
        " 'smatrix': <85276x94840 sparse matrix of type '<type 'numpy.int64'>'\n",
        " \twith 942728 stored elements in Compressed Sparse Column format>}"
       ]
      }
     ],
     "prompt_number": 15
    },
    {
     "cell_type": "code",
     "collapsed": false,
     "input": [],
     "language": "python",
     "metadata": {},
     "outputs": []
    }
   ],
   "metadata": {}
  }
 ]
}