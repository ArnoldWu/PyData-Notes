{
 "metadata": {
  "name": "",
  "signature": "sha256:57782514fcc1ec343330279db4be1cb6fd25114858c3a3f18be735fad0ca32a2"
 },
 "nbformat": 3,
 "nbformat_minor": 0,
 "worksheets": [
  {
   "cells": [
    {
     "cell_type": "markdown",
     "metadata": {},
     "source": [
      "# [Question] Cannot find the PCA widget\uff1f"
     ]
    },
    {
     "cell_type": "markdown",
     "metadata": {},
     "source": [
      "## Reference:\n",
      "\n",
      "- ### http://orange.biolab.si/forum/viewtopic.php?f=4&t=1731"
     ]
    },
    {
     "cell_type": "markdown",
     "metadata": {},
     "source": [
      "# [\u89e3\u6cd51] \n",
      "\n",
      "- ## \u5230 /orange/source/orangeqt/ \u5e95\u4e0b ... \n",
      "- ## \u7de8\u8f2f setup.py \u6a94\u6848\n",
      "- ## \u5c07 \n",
      "```\n",
      "\"Qt_\" + PyQt4.QtCore.QT_VERSION_STR.replace('.', '_')]\n",
      "```\n",
      "\n",
      "- ## \u6539\u70ba\n",
      "```\n",
      "\"Qt_4_8_0\"]# + PyQt4.QtCore.QT_VERSION_STR.replace('.', '_')]\n",
      "```\n",
      "\n",
      "- ## \u5230 /orange/ \u5e95\u4e0b ... \n",
      "- ## \u57f7\u884c \n",
      "```\n",
      "python setup.py build_pyqt_ext --sip-opts='-t Qt_4_8_0'\n",
      "```\n",
      "\n",
      "- ## \u7136\u5f8c\u57f7\u884c\n",
      "```\n",
      "python setup.py install\n",
      "```\n",
      "\n",
      "- ## \u5728\u91cd\u65b0\u6253\u958b\n",
      "```\n",
      "orange-canvas\n",
      "```\n",
      "\n",
      "- ## \u5c31\u53ef\u4ee5\u770b\u5230 PCA Widge \u4e86 !!!\n"
     ]
    },
    {
     "cell_type": "markdown",
     "metadata": {},
     "source": [
      "\n"
     ]
    }
   ],
   "metadata": {}
  }
 ]
}