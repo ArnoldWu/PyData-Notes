{
 "metadata": {
  "name": ""
 },
 "nbformat": 3,
 "nbformat_minor": 0,
 "worksheets": [
  {
   "cells": [
    {
     "cell_type": "markdown",
     "metadata": {},
     "source": [
      "## References:\n",
      "\n",
      "- ### [DOT Language] http://www.graphviz.org/doc/info/lang.html\n",
      "- ### [NetworkX Github] https://github.com/networkx/networkx\n",
      "\n",
      "\n"
     ]
    },
    {
     "cell_type": "code",
     "collapsed": false,
     "input": [
      "%matplotlib inline\n",
      "import matplotlib.pylab as pylab\n",
      "pylab.rcParams['figure.figsize'] = 16, 12"
     ],
     "language": "python",
     "metadata": {},
     "outputs": [],
     "prompt_number": 1
    },
    {
     "cell_type": "code",
     "collapsed": false,
     "input": [
      "from sklearn.datasets import load_iris\n",
      "from sklearn import tree\n",
      "iris = load_iris()\n",
      "clf = tree.DecisionTreeClassifier()\n",
      "clf = clf.fit(iris.data, iris.target)"
     ],
     "language": "python",
     "metadata": {},
     "outputs": [],
     "prompt_number": 2
    },
    {
     "cell_type": "code",
     "collapsed": false,
     "input": [
      "export_file = tree.export_graphviz(clf, out_file='tree.dot')                \n",
      "export_file.close()"
     ],
     "language": "python",
     "metadata": {},
     "outputs": [],
     "prompt_number": 14
    },
    {
     "cell_type": "code",
     "collapsed": false,
     "input": [
      "import networkx as nx"
     ],
     "language": "python",
     "metadata": {},
     "outputs": [],
     "prompt_number": 15
    },
    {
     "cell_type": "code",
     "collapsed": false,
     "input": [
      "G = nx.read_dot('tree.dot')"
     ],
     "language": "python",
     "metadata": {},
     "outputs": [],
     "prompt_number": 16
    },
    {
     "cell_type": "code",
     "collapsed": false,
     "input": [
      "G.nodes(), G.edges()"
     ],
     "language": "python",
     "metadata": {},
     "outputs": [
      {
       "metadata": {},
       "output_type": "pyout",
       "prompt_number": 17,
       "text": [
        "(['11',\n",
        "  '10',\n",
        "  '13',\n",
        "  '12',\n",
        "  '15',\n",
        "  '14',\n",
        "  '16',\n",
        "  '1',\n",
        "  '0',\n",
        "  '3',\n",
        "  '2',\n",
        "  '5',\n",
        "  '4',\n",
        "  '7',\n",
        "  '6',\n",
        "  '9',\n",
        "  '8'],\n",
        " [('13', '15'),\n",
        "  ('13', '14'),\n",
        "  ('12', '13'),\n",
        "  ('12', '16'),\n",
        "  ('0', '1'),\n",
        "  ('0', '2'),\n",
        "  ('3', '4'),\n",
        "  ('3', '7'),\n",
        "  ('2', '3'),\n",
        "  ('2', '12'),\n",
        "  ('4', '5'),\n",
        "  ('4', '6'),\n",
        "  ('7', '9'),\n",
        "  ('7', '8'),\n",
        "  ('9', '11'),\n",
        "  ('9', '10')])"
       ]
      }
     ],
     "prompt_number": 17
    },
    {
     "cell_type": "code",
     "collapsed": false,
     "input": [
      "nx.graphviz_layout(G)"
     ],
     "language": "python",
     "metadata": {},
     "outputs": [
      {
       "metadata": {},
       "output_type": "pyout",
       "prompt_number": 19,
       "text": [
        "{'0': (336.87, 109.07),\n",
        " '1': (360.95, 32.0),\n",
        " '10': (380.63, 490.87),\n",
        " '11': (279.58, 472.69),\n",
        " '12': (221.25, 168.5),\n",
        " '13': (138.19, 177.19),\n",
        " '14': (77.56, 121.81),\n",
        " '15': (75.5, 225.46),\n",
        " '16': (205.8, 87.615),\n",
        " '2': (304.96, 188.29),\n",
        " '3': (365.68, 252.3),\n",
        " '4': (450.23, 227.63),\n",
        " '5': (507.72, 169.84),\n",
        " '6': (527.1, 255.25),\n",
        " '7': (362.91, 339.31),\n",
        " '8': (435.65, 374.76),\n",
        " '9': (338.15, 419.8)}"
       ]
      }
     ],
     "prompt_number": 19
    },
    {
     "cell_type": "code",
     "collapsed": false,
     "input": [
      "!head -n 20 tree.dot"
     ],
     "language": "python",
     "metadata": {},
     "outputs": [
      {
       "output_type": "stream",
       "stream": "stdout",
       "text": [
        "digraph Tree {\r\n",
        "0 [label=\"X[3] <= 0.8000\\ngini = 0.666666666667\\nsamples = 150\", shape=\"box\"] ;\r\n",
        "1 [label=\"gini = 0.0000\\nsamples = 50\\nvalue = [ 50.   0.   0.]\", shape=\"box\"] ;\r\n",
        "0 -> 1 ;\r\n",
        "2 [label=\"X[3] <= 1.7500\\ngini = 0.5\\nsamples = 100\", shape=\"box\"] ;\r\n",
        "0 -> 2 ;\r\n",
        "3 [label=\"X[2] <= 4.9500\\ngini = 0.168038408779\\nsamples = 54\", shape=\"box\"] ;\r\n",
        "2 -> 3 ;\r\n",
        "4 [label=\"X[3] <= 1.6500\\ngini = 0.0407986111111\\nsamples = 48\", shape=\"box\"] ;\r\n",
        "3 -> 4 ;\r\n",
        "5 [label=\"gini = 0.0000\\nsamples = 47\\nvalue = [  0.  47.   0.]\", shape=\"box\"] ;\r\n",
        "4 -> 5 ;\r\n",
        "6 [label=\"gini = 0.0000\\nsamples = 1\\nvalue = [ 0.  0.  1.]\", shape=\"box\"] ;\r\n",
        "4 -> 6 ;\r\n",
        "7 [label=\"X[3] <= 1.5500\\ngini = 0.444444444444\\nsamples = 6\", shape=\"box\"] ;\r\n",
        "3 -> 7 ;\r\n",
        "8 [label=\"gini = 0.0000\\nsamples = 3\\nvalue = [ 0.  0.  3.]\", shape=\"box\"] ;\r\n",
        "7 -> 8 ;\r\n",
        "9 [label=\"X[2] <= 5.4500\\ngini = 0.444444444444\\nsamples = 3\", shape=\"box\"] ;\r\n",
        "7 -> 9 ;\r\n"
       ]
      }
     ],
     "prompt_number": 28
    },
    {
     "cell_type": "code",
     "collapsed": false,
     "input": [
      "G"
     ],
     "language": "python",
     "metadata": {},
     "outputs": [
      {
       "metadata": {},
       "output_type": "pyout",
       "prompt_number": 27,
       "text": [
        "<networkx.classes.multidigraph.MultiDiGraph at 0x2dcf890>"
       ]
      }
     ],
     "prompt_number": 27
    },
    {
     "cell_type": "code",
     "collapsed": false,
     "input": [],
     "language": "python",
     "metadata": {},
     "outputs": []
    },
    {
     "cell_type": "code",
     "collapsed": false,
     "input": [],
     "language": "python",
     "metadata": {},
     "outputs": [],
     "prompt_number": 29
    },
    {
     "cell_type": "code",
     "collapsed": false,
     "input": [],
     "language": "python",
     "metadata": {},
     "outputs": []
    },
    {
     "cell_type": "code",
     "collapsed": false,
     "input": [
      "nx.draw(G,nx.graphviz_layout(G))"
     ],
     "language": "python",
     "metadata": {},
     "outputs": [
      {
       "metadata": {},
       "output_type": "display_data",
       "png": "[encoded data removed]",
       "text": [
        "<matplotlib.figure.Figure at 0x3d22e50>"
       ]
      }
     ],
     "prompt_number": 20
    },
    {
     "cell_type": "code",
     "collapsed": false,
     "input": [],
     "language": "python",
     "metadata": {},
     "outputs": []
    },
    {
     "cell_type": "code",
     "collapsed": false,
     "input": [],
     "language": "python",
     "metadata": {},
     "outputs": []
    },
    {
     "cell_type": "code",
     "collapsed": false,
     "input": [],
     "language": "python",
     "metadata": {},
     "outputs": []
    },
    {
     "cell_type": "code",
     "collapsed": false,
     "input": [],
     "language": "python",
     "metadata": {},
     "outputs": []
    },
    {
     "cell_type": "code",
     "collapsed": false,
     "input": [
      "import pygraphviz as pgv"
     ],
     "language": "python",
     "metadata": {},
     "outputs": [],
     "prompt_number": 30
    },
    {
     "cell_type": "code",
     "collapsed": false,
     "input": [
      "G=pgv.AGraph(\"tree.dot\")  "
     ],
     "language": "python",
     "metadata": {},
     "outputs": [],
     "prompt_number": 32
    },
    {
     "cell_type": "code",
     "collapsed": false,
     "input": [
      "G.draw('tree.png')"
     ],
     "language": "python",
     "metadata": {},
     "outputs": [
      {
       "ename": "AttributeError",
       "evalue": "Graph has no layout information, see layout()\n                or specify prog=neato|dot|twopi|circo|fdp|nop.",
       "output_type": "pyerr",
       "traceback": [
        "\u001b[1;31m---------------------------------------------------------------------------\u001b[0m\n\u001b[1;31mAttributeError\u001b[0m                            Traceback (most recent call last)",
        "\u001b[1;32m<ipython-input-33-f156c955e3cf>\u001b[0m in \u001b[0;36m<module>\u001b[1;34m()\u001b[0m\n\u001b[1;32m----> 1\u001b[1;33m \u001b[0mG\u001b[0m\u001b[1;33m.\u001b[0m\u001b[0mdraw\u001b[0m\u001b[1;33m(\u001b[0m\u001b[1;34m'tree.png'\u001b[0m\u001b[1;33m)\u001b[0m\u001b[1;33m\u001b[0m\u001b[0m\n\u001b[0m",
        "\u001b[1;32m/usr/local/lib/python2.7/dist-packages/pygraphviz/agraph.pyc\u001b[0m in \u001b[0;36mdraw\u001b[1;34m(self, path, format, prog, args)\u001b[0m\n\u001b[0;32m   1407\u001b[0m                     \"\"\"Graph has no layout information, see layout()\n\u001b[0;32m   1408\u001b[0m                 or specify prog=%s.\"\"\"%\\\n\u001b[1;32m-> 1409\u001b[1;33m                 (\"|\".join(['neato','dot','twopi','circo','fdp','nop'])))\n\u001b[0m\u001b[0;32m   1410\u001b[0m \u001b[1;33m\u001b[0m\u001b[0m\n\u001b[0;32m   1411\u001b[0m         \u001b[1;32melse\u001b[0m\u001b[1;33m:\u001b[0m\u001b[1;33m\u001b[0m\u001b[0m\n",
        "\u001b[1;31mAttributeError\u001b[0m: Graph has no layout information, see layout()\n                or specify prog=neato|dot|twopi|circo|fdp|nop."
       ]
      }
     ],
     "prompt_number": 33
    },
    {
     "cell_type": "code",
     "collapsed": false,
     "input": [],
     "language": "python",
     "metadata": {},
     "outputs": []
    }
   ],
   "metadata": {}
  }
 ]
}