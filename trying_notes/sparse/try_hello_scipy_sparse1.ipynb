{
 "metadata": {
  "name": ""
 },
 "nbformat": 3,
 "nbformat_minor": 0,
 "worksheets": [
  {
   "cells": [
    {
     "cell_type": "markdown",
     "metadata": {},
     "source": [
      "## Referenc: \n",
      "\n",
      "- ###[python operators](http://docs.python.org/2/library/operator.htmlhttp://docs.python.org/2/library/operator.html)\n",
      "- ###[scipy sparse add cols and rows](http://stackoverflow.com/questions/9621807/python-scipy-resizing-a-sparse-matrix)\n",
      "- ###[np.vstack](http://docs.scipy.org/doc/numpy/reference/generated/numpy.vstack.html)\n",
      "- ###[np.vstack](http://docs.scipy.org/doc/numpy/reference/generated/numpy.hstack.html)\n",
      "- ###[scipy-lectures](http://scipy-lectures.github.io/index.html)\n",
      "- ###[scipy-lectures:sparse](http://scipy-lectures.github.io/advanced/scipy_sparse/index.html)\n",
      "- ###[scipy-lectures:csr](http://scipy-lectures.github.io/advanced/scipy_sparse/csr_matrix.html)\n",
      "- ###[scipy-lectures:lil](http://scipy-lectures.github.io/advanced/scipy_sparse/lil_matrix.html)\n",
      "- ###[scipy-lectures:solvers](http://scipy-lectures.github.io/advanced/scipy_sparse/solvers.html)\n",
      "- ###[scipy-lectures:spy](http://scipy-lectures.github.io/advanced/scipy_sparse/introduction.html)\n",
      "- ###[matplotlib:spy](http://matplotlib.org/examples/pylab_examples/spy_demos.html)\n"
     ]
    },
    {
     "cell_type": "code",
     "collapsed": false,
     "input": [],
     "language": "python",
     "metadata": {},
     "outputs": []
    }
   ],
   "metadata": {}
  }
 ]
}